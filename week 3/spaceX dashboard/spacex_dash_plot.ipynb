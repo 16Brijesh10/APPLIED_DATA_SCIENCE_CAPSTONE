{
 "cells": [
  {
   "cell_type": "code",
   "execution_count": 11,
   "id": "2eee73bd",
   "metadata": {},
   "outputs": [
    {
     "data": {
      "text/html": [
       "\n",
       "        <iframe\n",
       "            width=\"100%\"\n",
       "            height=\"650\"\n",
       "            src=\"http://127.0.0.1:8050/\"\n",
       "            frameborder=\"0\"\n",
       "            allowfullscreen\n",
       "            \n",
       "        ></iframe>\n",
       "        "
      ],
      "text/plain": [
       "<IPython.lib.display.IFrame at 0x28c45748c70>"
      ]
     },
     "metadata": {},
     "output_type": "display_data"
    }
   ],
   "source": [
    "# Import required libraries\n",
    "import pandas as pd\n",
    "import dash\n",
    "import dash_html_components as html\n",
    "import dash_core_components as dcc\n",
    "from dash.dependencies import Input, Output\n",
    "import plotly.express as px\n",
    "\n",
    "# Read the airline data into pandas dataframe\n",
    "spacex_df = pd.read_csv(\"spacex_df.csv\")\n",
    "max_payload = spacex_df['Payload Mass (kg)'].max()\n",
    "min_payload = spacex_df['Payload Mass (kg)'].min()\n",
    "\n",
    "# Create a dash application\n",
    "app = dash.Dash(__name__)\n",
    "\n",
    "# Create an app layout\n",
    "app.layout = html.Div(children=[html.H1('SpaceX Launch Records Dashboard',\n",
    "                                        style={'textAlign': 'center', 'color': '#503D36',\n",
    "                                               'font-size': 40}),\n",
    "                                # TASK 1: Add a dropdown list to enable Launch Site selection\n",
    "                                # The default select value is for ALL sites\n",
    "                                dcc.Dropdown(id='site-dropdown',\n",
    "                                             options=[{'label': 'All Sites', 'value': 'ALL'}] +\n",
    "                                                     [{'label': site, 'value': site} for site in spacex_df['Launch Site'].unique()],\n",
    "                                             value='ALL',\n",
    "                                             placeholder='Select a Launch Site here',\n",
    "                                             searchable=True),\n",
    "                                html.Br(),\n",
    "\n",
    "                                # TASK 2: Add a pie chart to show the total successful launches count for all sites\n",
    "                                # If a specific launch site was selected, show the Success vs. Failed counts for the site\n",
    "                                html.Div(dcc.Graph(id='success-pie-chart')),\n",
    "                                html.Br(),\n",
    "\n",
    "                                html.P(\"Payload range (Kg):\"),\n",
    "                                # TASK 3: Add a slider to select payload range\n",
    "                                dcc.RangeSlider(id='payload-slider',\n",
    "                                                min=min_payload,\n",
    "                                                max=max_payload,\n",
    "                                                step=1000,\n",
    "                                                value=[min_payload, max_payload]),\n",
    "\n",
    "                                # TASK 4: Add a scatter chart to show the correlation between payload and launch success\n",
    "                                html.Div(dcc.Graph(id='success-payload-scatter-chart')),\n",
    "                                ])\n",
    "\n",
    "# TASK 2:\n",
    "# Add a callback function for `site-dropdown` as input, `success-pie-chart` as output\n",
    "@app.callback(\n",
    "    Output('success-pie-chart', 'figure'),\n",
    "    [Input('site-dropdown', 'value')]\n",
    ")\n",
    "def update_pie_chart(selected_site):\n",
    "    if selected_site == 'ALL':\n",
    "        total_success = spacex_df['class'].sum()\n",
    "        total_failures = len(spacex_df) - total_success\n",
    "        fig = px.pie(names=['Success', 'Failure'], values=[total_success, total_failures], title='Total Success Launches for All Sites')\n",
    "    else:\n",
    "        site_df = spacex_df[spacex_df['Launch Site'] == selected_site]\n",
    "        success_count = site_df[site_df['class'] == 1].shape[0]\n",
    "        failure_count = site_df[site_df['class'] == 0].shape[0]\n",
    "        fig = px.pie(names=['Success', 'Failure'], values=[success_count, failure_count], title=f'Success vs. Failure for {selected_site}')\n",
    "    return fig\n",
    "\n",
    "# TASK 4:\n",
    "# Add a callback function for `site-dropdown` and `payload-slider` as inputs, `success-payload-scatter-chart` as output\n",
    "@app.callback(\n",
    "    Output('success-payload-scatter-chart', 'figure'),\n",
    "    [Input('site-dropdown', 'value'), Input('payload-slider', 'value')]\n",
    ")\n",
    "def update_scatter_chart(selected_site, payload_range):\n",
    "    if selected_site == 'ALL':\n",
    "        filtered_df = spacex_df[(spacex_df['Payload Mass (kg)'] >= payload_range[0]) & (spacex_df['Payload Mass (kg)'] <= payload_range[1])]\n",
    "        fig = px.scatter(filtered_df, x='Payload Mass (kg)', y='class', color='Booster Version Category', title='Payload vs. Outcome for All Sites')\n",
    "    else:\n",
    "        site_df = spacex_df[spacex_df['Launch Site'] == selected_site]\n",
    "        filtered_df = site_df[(site_df['Payload Mass (kg)'] >= payload_range[0]) & (site_df['Payload Mass (kg)'] <= payload_range[1])]\n",
    "        fig = px.scatter(filtered_df, x='Payload Mass (kg)', y='class', color='Booster Version Category', title=f'Payload vs. Outcome for {selected_site}')\n",
    "    return fig\n",
    "\n",
    "# Run the app\n",
    "if __name__ == '__main__':\n",
    "    app.run_server()\n"
   ]
  },
  {
   "cell_type": "code",
   "execution_count": 10,
   "id": "c5998e6a",
   "metadata": {},
   "outputs": [
    {
     "name": "stdout",
     "output_type": "stream",
     "text": [
      "Requirement already satisfied: dash in c:\\users\\brije\\anaconda3\\lib\\site-packages (2.15.0)\n",
      "Requirement already satisfied: retrying in c:\\users\\brije\\anaconda3\\lib\\site-packages (from dash) (1.3.4)\n",
      "Requirement already satisfied: dash-html-components==2.0.0 in c:\\users\\brije\\anaconda3\\lib\\site-packages (from dash) (2.0.0)\n",
      "Requirement already satisfied: plotly>=5.0.0 in c:\\users\\brije\\anaconda3\\lib\\site-packages (from dash) (5.9.0)\n",
      "Requirement already satisfied: typing-extensions>=4.1.1 in c:\\users\\brije\\anaconda3\\lib\\site-packages (from dash) (4.3.0)\n",
      "Requirement already satisfied: requests in c:\\users\\brije\\anaconda3\\lib\\site-packages (from dash) (2.28.1)\n",
      "Requirement already satisfied: setuptools in c:\\users\\brije\\anaconda3\\lib\\site-packages (from dash) (63.4.1)\n",
      "Requirement already satisfied: Werkzeug<3.1 in c:\\users\\brije\\anaconda3\\lib\\site-packages (from dash) (2.0.3)\n",
      "Requirement already satisfied: dash-core-components==2.0.0 in c:\\users\\brije\\anaconda3\\lib\\site-packages (from dash) (2.0.0)\n",
      "Requirement already satisfied: dash-table==5.0.0 in c:\\users\\brije\\anaconda3\\lib\\site-packages (from dash) (5.0.0)\n",
      "Requirement already satisfied: importlib-metadata in c:\\users\\brije\\anaconda3\\lib\\site-packages (from dash) (4.11.3)\n",
      "Requirement already satisfied: nest-asyncio in c:\\users\\brije\\anaconda3\\lib\\site-packages (from dash) (1.5.5)\n",
      "Requirement already satisfied: Flask<3.1,>=1.0.4 in c:\\users\\brije\\anaconda3\\lib\\site-packages (from dash) (1.1.2)\n",
      "Requirement already satisfied: itsdangerous>=0.24 in c:\\users\\brije\\anaconda3\\lib\\site-packages (from Flask<3.1,>=1.0.4->dash) (2.0.1)\n",
      "Requirement already satisfied: click>=5.1 in c:\\users\\brije\\anaconda3\\lib\\site-packages (from Flask<3.1,>=1.0.4->dash) (8.1.3)\n",
      "Requirement already satisfied: Jinja2>=2.10.1 in c:\\users\\brije\\anaconda3\\lib\\site-packages (from Flask<3.1,>=1.0.4->dash) (2.11.3)\n",
      "Requirement already satisfied: tenacity>=6.2.0 in c:\\users\\brije\\anaconda3\\lib\\site-packages (from plotly>=5.0.0->dash) (8.0.1)\n",
      "Requirement already satisfied: zipp>=0.5 in c:\\users\\brije\\anaconda3\\lib\\site-packages (from importlib-metadata->dash) (3.8.0)\n",
      "Requirement already satisfied: idna<4,>=2.5 in c:\\users\\brije\\anaconda3\\lib\\site-packages (from requests->dash) (3.3)\n",
      "Requirement already satisfied: urllib3<1.27,>=1.21.1 in c:\\users\\brije\\anaconda3\\lib\\site-packages (from requests->dash) (1.26.11)\n",
      "Requirement already satisfied: charset-normalizer<3,>=2 in c:\\users\\brije\\anaconda3\\lib\\site-packages (from requests->dash) (2.0.4)\n",
      "Requirement already satisfied: certifi>=2017.4.17 in c:\\users\\brije\\anaconda3\\lib\\site-packages (from requests->dash) (2023.5.7)\n",
      "Requirement already satisfied: six>=1.7.0 in c:\\users\\brije\\anaconda3\\lib\\site-packages (from retrying->dash) (1.16.0)\n",
      "Requirement already satisfied: colorama in c:\\users\\brije\\anaconda3\\lib\\site-packages (from click>=5.1->Flask<3.1,>=1.0.4->dash) (0.4.5)\n",
      "Requirement already satisfied: MarkupSafe>=0.23 in c:\\users\\brije\\anaconda3\\lib\\site-packages (from Jinja2>=2.10.1->Flask<3.1,>=1.0.4->dash) (2.0.1)\n"
     ]
    }
   ],
   "source": [
    "!pip install dash"
   ]
  },
  {
   "cell_type": "code",
   "execution_count": null,
   "id": "48f2f90e",
   "metadata": {},
   "outputs": [],
   "source": []
  }
 ],
 "metadata": {
  "kernelspec": {
   "display_name": "Python 3 (ipykernel)",
   "language": "python",
   "name": "python3"
  },
  "language_info": {
   "codemirror_mode": {
    "name": "ipython",
    "version": 3
   },
   "file_extension": ".py",
   "mimetype": "text/x-python",
   "name": "python",
   "nbconvert_exporter": "python",
   "pygments_lexer": "ipython3",
   "version": "3.9.13"
  }
 },
 "nbformat": 4,
 "nbformat_minor": 5
}
